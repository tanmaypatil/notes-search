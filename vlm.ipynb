{
 "cells": [
  {
   "cell_type": "code",
   "execution_count": 2,
   "metadata": {},
   "outputs": [],
   "source": [
    "from byaldi import RAGMultiModalModel"
   ]
  },
  {
   "cell_type": "code",
   "execution_count": 3,
   "metadata": {},
   "outputs": [
    {
     "name": "stdout",
     "output_type": "stream",
     "text": [
      "Verbosity is set to 1 (active). Pass verbose=0 to make quieter.\n"
     ]
    },
    {
     "name": "stderr",
     "output_type": "stream",
     "text": [
      "`config.hidden_act` is ignored, you should use `config.hidden_activation` instead.\n",
      "Gemma's activation function will be set to `gelu_pytorch_tanh`. Please, use\n",
      "`config.hidden_activation` if you want to override this behaviour.\n",
      "See https://github.com/huggingface/transformers/pull/29402 for more details.\n"
     ]
    },
    {
     "data": {
      "application/vnd.jupyter.widget-view+json": {
       "model_id": "b3f02b57d992479fa411c8b563c54491",
       "version_major": 2,
       "version_minor": 0
      },
      "text/plain": [
       "Loading checkpoint shards:   0%|          | 0/2 [00:00<?, ?it/s]"
      ]
     },
     "metadata": {},
     "output_type": "display_data"
    }
   ],
   "source": [
    "RAG = RAGMultiModalModel.from_pretrained(\"vidore/colpali-v1.2\")\n"
   ]
  },
  {
   "cell_type": "code",
   "execution_count": 4,
   "metadata": {},
   "outputs": [
    {
     "name": "stdout",
     "output_type": "stream",
     "text": [
      "Indexing file: docs/Tanmay_patil_resume.pdf\n"
     ]
    },
    {
     "name": "stderr",
     "output_type": "stream",
     "text": [
      "Starting from v4.46, the `logits` model output will have the same type as the model (except at train time, where it will always be FP32)\n"
     ]
    },
    {
     "name": "stdout",
     "output_type": "stream",
     "text": [
      "Added page 1 of document 0 to index.\n",
      "Added page 2 of document 0 to index.\n",
      "Added page 3 of document 0 to index.\n",
      "Added page 4 of document 0 to index.\n",
      "Added page 5 of document 0 to index.\n",
      "Index exported to .byaldi/resume-search\n",
      "Index exported to .byaldi/resume-search\n"
     ]
    },
    {
     "data": {
      "text/plain": [
       "{0: 'docs/Tanmay_patil_resume.pdf'}"
      ]
     },
     "execution_count": 4,
     "metadata": {},
     "output_type": "execute_result"
    }
   ],
   "source": [
    "index_name = 'resume-search'\n",
    "RAG.index(\n",
    "    input_path=\"docs/\", # The path to your documents\n",
    "    index_name=index_name, # The name you want to give to your index. It'll be saved at `index_root/index_name/`.\n",
    "    store_collection_with_index=False, # Whether the index should store the base64 encoded documents.\n",
    "    doc_ids=[0], # Optionally, you can specify a list of document IDs. They must be integers and match the number of documents you're passing. Otherwise, doc_ids will be automatically created.\n",
    "    overwrite=True # Whether to overwrite an index if it already exists. If False, it'll return None and do nothing if `index_root/index_name` exists.\n",
    ")"
   ]
  },
  {
   "cell_type": "code",
   "execution_count": 5,
   "metadata": {},
   "outputs": [],
   "source": [
    "query = 'What was role of Tanmay Patil in finastra'"
   ]
  },
  {
   "cell_type": "code",
   "execution_count": 6,
   "metadata": {},
   "outputs": [
    {
     "name": "stdout",
     "output_type": "stream",
     "text": [
      "Search results for 'What was role of Tanmay Patil in finastra':\n",
      "Doc ID: 0, Page: 1, Score: 15.5625\n",
      "Doc ID: 0, Page: 2, Score: 12.5\n",
      "Doc ID: 0, Page: 4, Score: 10.0625\n",
      "Doc ID: 0, Page: 3, Score: 9.875\n",
      "Doc ID: 0, Page: 5, Score: 9.375\n"
     ]
    }
   ],
   "source": [
    "results = RAG.search(query, k=5)\n",
    "\n",
    "print(f\"Search results for '{query}':\")\n",
    "for result in results:\n",
    "    print(f\"Doc ID: {result.doc_id}, Page: {result.page_num}, Score: {result.score}\")"
   ]
  },
  {
   "cell_type": "code",
   "execution_count": 7,
   "metadata": {},
   "outputs": [],
   "source": [
    "query = 'Does Tanmay Patil know Java'"
   ]
  },
  {
   "cell_type": "code",
   "execution_count": null,
   "metadata": {},
   "outputs": [],
   "source": []
  }
 ],
 "metadata": {
  "language_info": {
   "name": "python"
  }
 },
 "nbformat": 4,
 "nbformat_minor": 2
}
